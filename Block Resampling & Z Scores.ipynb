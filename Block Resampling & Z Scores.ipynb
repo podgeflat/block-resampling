{
 "cells": [
  {
   "cell_type": "markdown",
   "metadata": {},
   "source": [
    "# Block Resampling & Z Scores"
   ]
  },
  {
   "cell_type": "markdown",
   "metadata": {},
   "source": [
    "### To Do List"
   ]
  },
  {
   "cell_type": "markdown",
   "metadata": {
    "collapsed": true
   },
   "source": [
    "1. Generate extreme indices for seasons (warm season, cool season, wet season, dry season)\n",
    "2. Generate new sequence based on multiple warm years, cool years, wet years, dry years etc. "
   ]
  },
  {
   "cell_type": "markdown",
   "metadata": {},
   "source": [
    "### User-Defined Variables"
   ]
  },
  {
   "cell_type": "code",
   "execution_count": 41,
   "metadata": {
    "collapsed": true
   },
   "outputs": [],
   "source": [
    "startyear = 2008 #first year of your weather data\n",
    "endyear = 2014 #second year of your weather data\n",
    "outputyears = 50 #number of years in your generated sequence"
   ]
  },
  {
   "cell_type": "markdown",
   "metadata": {},
   "source": [
    "### Load Necessary Packages"
   ]
  },
  {
   "cell_type": "code",
   "execution_count": 42,
   "metadata": {
    "collapsed": false
   },
   "outputs": [],
   "source": [
    "import pandas as pd\n",
    "import numpy as np\n",
    "import os\n",
    "import matplotlib.pyplot as plt\n",
    "import pyeto\n",
    "from pyeto import hargreaves\n",
    "%matplotlib inline"
   ]
  },
  {
   "cell_type": "markdown",
   "metadata": {},
   "source": [
    "### Read in & display climate data"
   ]
  },
  {
   "cell_type": "code",
   "execution_count": 43,
   "metadata": {
    "collapsed": false,
    "scrolled": true
   },
   "outputs": [
    {
     "data": {
      "text/html": [
       "<div>\n",
       "<table border=\"1\" class=\"dataframe\">\n",
       "  <thead>\n",
       "    <tr style=\"text-align: right;\">\n",
       "      <th></th>\n",
       "      <th>date</th>\n",
       "      <th>imax</th>\n",
       "      <th>maxtp</th>\n",
       "      <th>imin</th>\n",
       "      <th>mintp</th>\n",
       "      <th>irain</th>\n",
       "      <th>rain</th>\n",
       "      <th>cbl</th>\n",
       "      <th>wdsp</th>\n",
       "      <th>ihm</th>\n",
       "      <th>hm</th>\n",
       "      <th>iddhm</th>\n",
       "      <th>ddhm</th>\n",
       "      <th>ihg</th>\n",
       "      <th>hg</th>\n",
       "      <th>soil</th>\n",
       "    </tr>\n",
       "  </thead>\n",
       "  <tbody>\n",
       "    <tr>\n",
       "      <th>0</th>\n",
       "      <td>01-jan-2007</td>\n",
       "      <td>0</td>\n",
       "      <td>6.1</td>\n",
       "      <td>0</td>\n",
       "      <td>3.6</td>\n",
       "      <td>0</td>\n",
       "      <td>4.8</td>\n",
       "      <td>1005.9</td>\n",
       "      <td>10.7</td>\n",
       "      <td>0</td>\n",
       "      <td>23</td>\n",
       "      <td>0</td>\n",
       "      <td>250</td>\n",
       "      <td>0</td>\n",
       "      <td>33</td>\n",
       "      <td>4.071</td>\n",
       "    </tr>\n",
       "    <tr>\n",
       "      <th>1</th>\n",
       "      <td>02-jan-2007</td>\n",
       "      <td>0</td>\n",
       "      <td>9.4</td>\n",
       "      <td>0</td>\n",
       "      <td>4.8</td>\n",
       "      <td>0</td>\n",
       "      <td>0.4</td>\n",
       "      <td>1017.2</td>\n",
       "      <td>11.3</td>\n",
       "      <td>0</td>\n",
       "      <td>21</td>\n",
       "      <td>0</td>\n",
       "      <td>240</td>\n",
       "      <td>0</td>\n",
       "      <td>33</td>\n",
       "      <td>4.304</td>\n",
       "    </tr>\n",
       "    <tr>\n",
       "      <th>2</th>\n",
       "      <td>03-jan-2007</td>\n",
       "      <td>0</td>\n",
       "      <td>12.1</td>\n",
       "      <td>0</td>\n",
       "      <td>8.1</td>\n",
       "      <td>0</td>\n",
       "      <td>2.9</td>\n",
       "      <td>1005.7</td>\n",
       "      <td>14.6</td>\n",
       "      <td>0</td>\n",
       "      <td>25</td>\n",
       "      <td>0</td>\n",
       "      <td>250</td>\n",
       "      <td>0</td>\n",
       "      <td>38</td>\n",
       "      <td>7.723</td>\n",
       "    </tr>\n",
       "    <tr>\n",
       "      <th>3</th>\n",
       "      <td>04-jan-2007</td>\n",
       "      <td>0</td>\n",
       "      <td>9.7</td>\n",
       "      <td>0</td>\n",
       "      <td>7.3</td>\n",
       "      <td>0</td>\n",
       "      <td>0.0</td>\n",
       "      <td>1004.2</td>\n",
       "      <td>12.8</td>\n",
       "      <td>0</td>\n",
       "      <td>23</td>\n",
       "      <td>0</td>\n",
       "      <td>260</td>\n",
       "      <td>0</td>\n",
       "      <td>35</td>\n",
       "      <td>6.758</td>\n",
       "    </tr>\n",
       "    <tr>\n",
       "      <th>4</th>\n",
       "      <td>05-jan-2007</td>\n",
       "      <td>0</td>\n",
       "      <td>10.2</td>\n",
       "      <td>0</td>\n",
       "      <td>4.7</td>\n",
       "      <td>0</td>\n",
       "      <td>0.8</td>\n",
       "      <td>1005.5</td>\n",
       "      <td>9.4</td>\n",
       "      <td>0</td>\n",
       "      <td>14</td>\n",
       "      <td>0</td>\n",
       "      <td>260</td>\n",
       "      <td>0</td>\n",
       "      <td>19</td>\n",
       "      <td>6.760</td>\n",
       "    </tr>\n",
       "  </tbody>\n",
       "</table>\n",
       "</div>"
      ],
      "text/plain": [
       "          date  imax  maxtp  imin  mintp  irain  rain     cbl  wdsp  ihm  hm  \\\n",
       "0  01-jan-2007     0    6.1     0    3.6      0   4.8  1005.9  10.7    0  23   \n",
       "1  02-jan-2007     0    9.4     0    4.8      0   0.4  1017.2  11.3    0  21   \n",
       "2  03-jan-2007     0   12.1     0    8.1      0   2.9  1005.7  14.6    0  25   \n",
       "3  04-jan-2007     0    9.7     0    7.3      0   0.0  1004.2  12.8    0  23   \n",
       "4  05-jan-2007     0   10.2     0    4.7      0   0.8  1005.5   9.4    0  14   \n",
       "\n",
       "   iddhm  ddhm  ihg  hg   soil  \n",
       "0      0   250    0  33  4.071  \n",
       "1      0   240    0  33  4.304  \n",
       "2      0   250    0  38  7.723  \n",
       "3      0   260    0  35  6.758  \n",
       "4      0   260    0  19  6.760  "
      ]
     },
     "execution_count": 43,
     "metadata": {},
     "output_type": "execute_result"
    }
   ],
   "source": [
    "df = pd.read_csv(\"E:\\PhD\\Data\\MetData\\Raw\\dly375 (Oak Park)\\dly375.csv\",skiprows=16, na_values=[' '])\n",
    "df.head()"
   ]
  },
  {
   "cell_type": "markdown",
   "metadata": {},
   "source": [
    "Convert 'date' column to datetime object"
   ]
  },
  {
   "cell_type": "code",
   "execution_count": 44,
   "metadata": {
    "collapsed": true
   },
   "outputs": [],
   "source": [
    "df['date'] = pd.to_datetime(df['date'], format= '%d-%b-%Y') # https://docs.python.org/2/library/datetime.html see end of this page for %d %m %Y"
   ]
  },
  {
   "cell_type": "markdown",
   "metadata": {},
   "source": [
    "### Remove incomplete years\n",
    "Count the number of days in each year"
   ]
  },
  {
   "cell_type": "code",
   "execution_count": 45,
   "metadata": {
    "collapsed": false
   },
   "outputs": [],
   "source": [
    "count = df.set_index([df['date'].dt.year, df['date'].dt.day]).count(level=0) #indexes by year, counts the days"
   ]
  },
  {
   "cell_type": "markdown",
   "metadata": {},
   "source": [
    "Drop years which have less than 365 days"
   ]
  },
  {
   "cell_type": "code",
   "execution_count": 46,
   "metadata": {
    "collapsed": false
   },
   "outputs": [],
   "source": [
    "count = count.drop(count[count.date < 365].index)"
   ]
  },
  {
   "cell_type": "markdown",
   "metadata": {},
   "source": [
    "Create a 'years' variable which has all years with 365 days or more in it"
   ]
  },
  {
   "cell_type": "code",
   "execution_count": 47,
   "metadata": {
    "collapsed": false
   },
   "outputs": [],
   "source": [
    "years = count[count['date'] >= 365].index "
   ]
  },
  {
   "cell_type": "markdown",
   "metadata": {},
   "source": [
    "Reformat the dataframe based on full years"
   ]
  },
  {
   "cell_type": "code",
   "execution_count": 48,
   "metadata": {
    "collapsed": false,
    "scrolled": true
   },
   "outputs": [
    {
     "data": {
      "text/html": [
       "<div>\n",
       "<table border=\"1\" class=\"dataframe\">\n",
       "  <thead>\n",
       "    <tr style=\"text-align: right;\">\n",
       "      <th></th>\n",
       "      <th>date</th>\n",
       "      <th>imax</th>\n",
       "      <th>maxtp</th>\n",
       "      <th>imin</th>\n",
       "      <th>mintp</th>\n",
       "      <th>irain</th>\n",
       "      <th>rain</th>\n",
       "      <th>cbl</th>\n",
       "      <th>wdsp</th>\n",
       "      <th>ihm</th>\n",
       "      <th>hm</th>\n",
       "      <th>iddhm</th>\n",
       "      <th>ddhm</th>\n",
       "      <th>ihg</th>\n",
       "      <th>hg</th>\n",
       "      <th>soil</th>\n",
       "    </tr>\n",
       "  </thead>\n",
       "  <tbody>\n",
       "    <tr>\n",
       "      <th>2917</th>\n",
       "      <td>2014-12-27</td>\n",
       "      <td>0</td>\n",
       "      <td>5.2</td>\n",
       "      <td>0</td>\n",
       "      <td>0.3</td>\n",
       "      <td>0</td>\n",
       "      <td>0</td>\n",
       "      <td>1011.2</td>\n",
       "      <td>7.3</td>\n",
       "      <td>0</td>\n",
       "      <td>12</td>\n",
       "      <td>0</td>\n",
       "      <td>290</td>\n",
       "      <td>0</td>\n",
       "      <td>20</td>\n",
       "      <td>3.151</td>\n",
       "    </tr>\n",
       "    <tr>\n",
       "      <th>2918</th>\n",
       "      <td>2014-12-28</td>\n",
       "      <td>0</td>\n",
       "      <td>3.0</td>\n",
       "      <td>0</td>\n",
       "      <td>-3.7</td>\n",
       "      <td>0</td>\n",
       "      <td>0</td>\n",
       "      <td>1024.3</td>\n",
       "      <td>3.7</td>\n",
       "      <td>0</td>\n",
       "      <td>9</td>\n",
       "      <td>0</td>\n",
       "      <td>330</td>\n",
       "      <td>0</td>\n",
       "      <td>15</td>\n",
       "      <td>1.357</td>\n",
       "    </tr>\n",
       "    <tr>\n",
       "      <th>2919</th>\n",
       "      <td>2014-12-29</td>\n",
       "      <td>0</td>\n",
       "      <td>5.1</td>\n",
       "      <td>0</td>\n",
       "      <td>-5.3</td>\n",
       "      <td>0</td>\n",
       "      <td>0</td>\n",
       "      <td>1033.0</td>\n",
       "      <td>3.3</td>\n",
       "      <td>0</td>\n",
       "      <td>8</td>\n",
       "      <td>0</td>\n",
       "      <td>150</td>\n",
       "      <td>0</td>\n",
       "      <td>10</td>\n",
       "      <td>0.668</td>\n",
       "    </tr>\n",
       "    <tr>\n",
       "      <th>2920</th>\n",
       "      <td>2014-12-30</td>\n",
       "      <td>0</td>\n",
       "      <td>8.8</td>\n",
       "      <td>0</td>\n",
       "      <td>-0.4</td>\n",
       "      <td>0</td>\n",
       "      <td>0</td>\n",
       "      <td>1026.3</td>\n",
       "      <td>7.3</td>\n",
       "      <td>0</td>\n",
       "      <td>15</td>\n",
       "      <td>0</td>\n",
       "      <td>150</td>\n",
       "      <td>0</td>\n",
       "      <td>22</td>\n",
       "      <td>0.982</td>\n",
       "    </tr>\n",
       "    <tr>\n",
       "      <th>2921</th>\n",
       "      <td>2014-12-31</td>\n",
       "      <td>0</td>\n",
       "      <td>11.0</td>\n",
       "      <td>0</td>\n",
       "      <td>8.3</td>\n",
       "      <td>0</td>\n",
       "      <td>1</td>\n",
       "      <td>1017.0</td>\n",
       "      <td>12.4</td>\n",
       "      <td>0</td>\n",
       "      <td>17</td>\n",
       "      <td>0</td>\n",
       "      <td>180</td>\n",
       "      <td>0</td>\n",
       "      <td>26</td>\n",
       "      <td>5.942</td>\n",
       "    </tr>\n",
       "  </tbody>\n",
       "</table>\n",
       "</div>"
      ],
      "text/plain": [
       "           date  imax  maxtp  imin  mintp  irain  rain     cbl  wdsp  ihm  hm  \\\n",
       "2917 2014-12-27     0    5.2     0    0.3      0     0  1011.2   7.3    0  12   \n",
       "2918 2014-12-28     0    3.0     0   -3.7      0     0  1024.3   3.7    0   9   \n",
       "2919 2014-12-29     0    5.1     0   -5.3      0     0  1033.0   3.3    0   8   \n",
       "2920 2014-12-30     0    8.8     0   -0.4      0     0  1026.3   7.3    0  15   \n",
       "2921 2014-12-31     0   11.0     0    8.3      0     1  1017.0  12.4    0  17   \n",
       "\n",
       "      iddhm  ddhm  ihg  hg   soil  \n",
       "2917      0   290    0  20  3.151  \n",
       "2918      0   330    0  15  1.357  \n",
       "2919      0   150    0  10  0.668  \n",
       "2920      0   150    0  22  0.982  \n",
       "2921      0   180    0  26  5.942  "
      ]
     },
     "execution_count": 48,
     "metadata": {},
     "output_type": "execute_result"
    }
   ],
   "source": [
    "df = df[df['date'].dt.year.isin(years)]\n",
    "df.tail()"
   ]
  },
  {
   "cell_type": "markdown",
   "metadata": {},
   "source": [
    "Calculate the number of years in the dataframe (to be used later when getting monthly precipitation baseline)"
   ]
  },
  {
   "cell_type": "code",
   "execution_count": 49,
   "metadata": {
    "collapsed": false
   },
   "outputs": [
    {
     "data": {
      "text/plain": [
       "8"
      ]
     },
     "execution_count": 49,
     "metadata": {},
     "output_type": "execute_result"
    }
   ],
   "source": [
    "no_of_years = df['date'].dt.year.nunique()\n",
    "no_of_years"
   ]
  },
  {
   "cell_type": "markdown",
   "metadata": {},
   "source": [
    "Remove the final 31 rows to get rid of December, as it will only have a 1 month value"
   ]
  },
  {
   "cell_type": "code",
   "execution_count": 50,
   "metadata": {
    "collapsed": false
   },
   "outputs": [
    {
     "data": {
      "text/html": [
       "<div>\n",
       "<table border=\"1\" class=\"dataframe\">\n",
       "  <thead>\n",
       "    <tr style=\"text-align: right;\">\n",
       "      <th></th>\n",
       "      <th>date</th>\n",
       "      <th>imax</th>\n",
       "      <th>maxtp</th>\n",
       "      <th>imin</th>\n",
       "      <th>mintp</th>\n",
       "      <th>irain</th>\n",
       "      <th>rain</th>\n",
       "      <th>cbl</th>\n",
       "      <th>wdsp</th>\n",
       "      <th>ihm</th>\n",
       "      <th>hm</th>\n",
       "      <th>iddhm</th>\n",
       "      <th>ddhm</th>\n",
       "      <th>ihg</th>\n",
       "      <th>hg</th>\n",
       "      <th>soil</th>\n",
       "    </tr>\n",
       "  </thead>\n",
       "  <tbody>\n",
       "    <tr>\n",
       "      <th>2886</th>\n",
       "      <td>2014-11-26</td>\n",
       "      <td>0</td>\n",
       "      <td>4.5</td>\n",
       "      <td>0</td>\n",
       "      <td>-2.1</td>\n",
       "      <td>0</td>\n",
       "      <td>0</td>\n",
       "      <td>1005.0</td>\n",
       "      <td>1.3</td>\n",
       "      <td>0</td>\n",
       "      <td>5</td>\n",
       "      <td>0</td>\n",
       "      <td>110</td>\n",
       "      <td>0</td>\n",
       "      <td>6</td>\n",
       "      <td>3.627</td>\n",
       "    </tr>\n",
       "    <tr>\n",
       "      <th>2887</th>\n",
       "      <td>2014-11-27</td>\n",
       "      <td>0</td>\n",
       "      <td>9.7</td>\n",
       "      <td>0</td>\n",
       "      <td>-0.9</td>\n",
       "      <td>0</td>\n",
       "      <td>0</td>\n",
       "      <td>994.4</td>\n",
       "      <td>4.4</td>\n",
       "      <td>0</td>\n",
       "      <td>12</td>\n",
       "      <td>0</td>\n",
       "      <td>120</td>\n",
       "      <td>0</td>\n",
       "      <td>20</td>\n",
       "      <td>3.758</td>\n",
       "    </tr>\n",
       "    <tr>\n",
       "      <th>2888</th>\n",
       "      <td>2014-11-28</td>\n",
       "      <td>0</td>\n",
       "      <td>12.7</td>\n",
       "      <td>0</td>\n",
       "      <td>4.9</td>\n",
       "      <td>0</td>\n",
       "      <td>0</td>\n",
       "      <td>994.8</td>\n",
       "      <td>5.4</td>\n",
       "      <td>0</td>\n",
       "      <td>11</td>\n",
       "      <td>0</td>\n",
       "      <td>80</td>\n",
       "      <td>0</td>\n",
       "      <td>17</td>\n",
       "      <td>6.788</td>\n",
       "    </tr>\n",
       "    <tr>\n",
       "      <th>2889</th>\n",
       "      <td>2014-11-29</td>\n",
       "      <td>0</td>\n",
       "      <td>9.4</td>\n",
       "      <td>0</td>\n",
       "      <td>5.9</td>\n",
       "      <td>0</td>\n",
       "      <td>0</td>\n",
       "      <td>1003.0</td>\n",
       "      <td>2.5</td>\n",
       "      <td>0</td>\n",
       "      <td>8</td>\n",
       "      <td>0</td>\n",
       "      <td>180</td>\n",
       "      <td>0</td>\n",
       "      <td>10</td>\n",
       "      <td>7.190</td>\n",
       "    </tr>\n",
       "    <tr>\n",
       "      <th>2890</th>\n",
       "      <td>2014-11-30</td>\n",
       "      <td>0</td>\n",
       "      <td>9.3</td>\n",
       "      <td>0</td>\n",
       "      <td>2.9</td>\n",
       "      <td>0</td>\n",
       "      <td>0</td>\n",
       "      <td>1008.8</td>\n",
       "      <td>3.1</td>\n",
       "      <td>0</td>\n",
       "      <td>7</td>\n",
       "      <td>0</td>\n",
       "      <td>320</td>\n",
       "      <td>0</td>\n",
       "      <td>11</td>\n",
       "      <td>6.590</td>\n",
       "    </tr>\n",
       "  </tbody>\n",
       "</table>\n",
       "</div>"
      ],
      "text/plain": [
       "           date  imax  maxtp  imin  mintp  irain  rain     cbl  wdsp  ihm  hm  \\\n",
       "2886 2014-11-26     0    4.5     0   -2.1      0     0  1005.0   1.3    0   5   \n",
       "2887 2014-11-27     0    9.7     0   -0.9      0     0   994.4   4.4    0  12   \n",
       "2888 2014-11-28     0   12.7     0    4.9      0     0   994.8   5.4    0  11   \n",
       "2889 2014-11-29     0    9.4     0    5.9      0     0  1003.0   2.5    0   8   \n",
       "2890 2014-11-30     0    9.3     0    2.9      0     0  1008.8   3.1    0   7   \n",
       "\n",
       "      iddhm  ddhm  ihg  hg   soil  \n",
       "2886      0   110    0   6  3.627  \n",
       "2887      0   120    0  20  3.758  \n",
       "2888      0    80    0  17  6.788  \n",
       "2889      0   180    0  10  7.190  \n",
       "2890      0   320    0  11  6.590  "
      ]
     },
     "execution_count": 50,
     "metadata": {},
     "output_type": "execute_result"
    }
   ],
   "source": [
    "df = df.drop(df.index[-31:])\n",
    "df.tail()"
   ]
  },
  {
   "cell_type": "markdown",
   "metadata": {},
   "source": [
    "### Create mean temp field"
   ]
  },
  {
   "cell_type": "code",
   "execution_count": 51,
   "metadata": {
    "collapsed": false
   },
   "outputs": [],
   "source": [
    "df['meantp'] = (df['maxtp'] + df['mintp'])/2\n",
    "df.meantp = df.meantp.round(1) #keep Tmean to one decimal place as that's what's in the original dat\n",
    "#NOTE:Numpy rounds to the nearest even value. Thus 1.5 and 2.5 round to 2.0, -0.5 and 0.5 round to 0.0, etc."
   ]
  },
  {
   "cell_type": "markdown",
   "metadata": {},
   "source": [
    "### Calculate PET using [Hargreaves method](https://github.com/woodcrafty/PyETo/blob/master/docs/hargreaves.rst) (from [PyETo package](https://github.com/woodcrafty/PyETo))"
   ]
  },
  {
   "cell_type": "markdown",
   "metadata": {},
   "source": [
    "The hargreaves method is recommended by the FAO (Allen et al, 1998) where insufficient meterological data are available from Penman-Monteith)\n",
    "\n",
    "It uses temperature and solar radiation which is estimated from the latitude and the time of year.\n",
    "\n",
    "The Hargreaves equation has a tendency to under-estimate ETo under high wind conditions(u2 > 3m/s) and to over-estimate under conditions of high relative humidity.\n",
    "\n",
    "**First specify latitude for your site, and create a 'day of year' column from the date:**"
   ]
  },
  {
   "cell_type": "code",
   "execution_count": 52,
   "metadata": {
    "collapsed": false
   },
   "outputs": [],
   "source": [
    "lat = pyeto.deg2rad(52.861) #latitude for Oak Park Carlow\n",
    "\n",
    "df['lat']= lat #add column to the dataframe\n",
    "\n",
    "df['dayofyear'] = pd.DatetimeIndex(df['date']).dayofyear #create 'day of year' column to calculate sunshine variables"
   ]
  },
  {
   "cell_type": "markdown",
   "metadata": {},
   "source": [
    "Estimate solar declination (sol_dec), sunset hour angle (sha), inverse relative distance from Earth to the sun (ird), and ET radiation (et_rad)"
   ]
  },
  {
   "cell_type": "code",
   "execution_count": 53,
   "metadata": {
    "collapsed": false
   },
   "outputs": [
    {
     "data": {
      "text/html": [
       "<div>\n",
       "<table border=\"1\" class=\"dataframe\">\n",
       "  <thead>\n",
       "    <tr style=\"text-align: right;\">\n",
       "      <th></th>\n",
       "      <th>date</th>\n",
       "      <th>imax</th>\n",
       "      <th>maxtp</th>\n",
       "      <th>imin</th>\n",
       "      <th>mintp</th>\n",
       "      <th>irain</th>\n",
       "      <th>rain</th>\n",
       "      <th>cbl</th>\n",
       "      <th>wdsp</th>\n",
       "      <th>ihm</th>\n",
       "      <th>...</th>\n",
       "      <th>ihg</th>\n",
       "      <th>hg</th>\n",
       "      <th>soil</th>\n",
       "      <th>meantp</th>\n",
       "      <th>lat</th>\n",
       "      <th>dayofyear</th>\n",
       "      <th>sol_dec</th>\n",
       "      <th>sha</th>\n",
       "      <th>ird</th>\n",
       "      <th>et_rad</th>\n",
       "    </tr>\n",
       "  </thead>\n",
       "  <tbody>\n",
       "    <tr>\n",
       "      <th>0</th>\n",
       "      <td>2007-01-01</td>\n",
       "      <td>0</td>\n",
       "      <td>6.1</td>\n",
       "      <td>0</td>\n",
       "      <td>3.6</td>\n",
       "      <td>0</td>\n",
       "      <td>4.8</td>\n",
       "      <td>1005.9</td>\n",
       "      <td>10.7</td>\n",
       "      <td>0</td>\n",
       "      <td>...</td>\n",
       "      <td>0</td>\n",
       "      <td>33</td>\n",
       "      <td>4.071</td>\n",
       "      <td>4.8</td>\n",
       "      <td>0.922598</td>\n",
       "      <td>1</td>\n",
       "      <td>-0.401008</td>\n",
       "      <td>0.976637</td>\n",
       "      <td>1.032995</td>\n",
       "      <td>6.083577</td>\n",
       "    </tr>\n",
       "    <tr>\n",
       "      <th>1</th>\n",
       "      <td>2007-01-02</td>\n",
       "      <td>0</td>\n",
       "      <td>9.4</td>\n",
       "      <td>0</td>\n",
       "      <td>4.8</td>\n",
       "      <td>0</td>\n",
       "      <td>0.4</td>\n",
       "      <td>1017.2</td>\n",
       "      <td>11.3</td>\n",
       "      <td>0</td>\n",
       "      <td>...</td>\n",
       "      <td>0</td>\n",
       "      <td>33</td>\n",
       "      <td>4.304</td>\n",
       "      <td>7.1</td>\n",
       "      <td>0.922598</td>\n",
       "      <td>2</td>\n",
       "      <td>-0.399564</td>\n",
       "      <td>0.979348</td>\n",
       "      <td>1.032980</td>\n",
       "      <td>6.134697</td>\n",
       "    </tr>\n",
       "    <tr>\n",
       "      <th>2</th>\n",
       "      <td>2007-01-03</td>\n",
       "      <td>0</td>\n",
       "      <td>12.1</td>\n",
       "      <td>0</td>\n",
       "      <td>8.1</td>\n",
       "      <td>0</td>\n",
       "      <td>2.9</td>\n",
       "      <td>1005.7</td>\n",
       "      <td>14.6</td>\n",
       "      <td>0</td>\n",
       "      <td>...</td>\n",
       "      <td>0</td>\n",
       "      <td>38</td>\n",
       "      <td>7.723</td>\n",
       "      <td>10.1</td>\n",
       "      <td>0.922598</td>\n",
       "      <td>3</td>\n",
       "      <td>-0.398001</td>\n",
       "      <td>0.982272</td>\n",
       "      <td>1.032956</td>\n",
       "      <td>6.190089</td>\n",
       "    </tr>\n",
       "    <tr>\n",
       "      <th>3</th>\n",
       "      <td>2007-01-04</td>\n",
       "      <td>0</td>\n",
       "      <td>9.7</td>\n",
       "      <td>0</td>\n",
       "      <td>7.3</td>\n",
       "      <td>0</td>\n",
       "      <td>0.0</td>\n",
       "      <td>1004.2</td>\n",
       "      <td>12.8</td>\n",
       "      <td>0</td>\n",
       "      <td>...</td>\n",
       "      <td>0</td>\n",
       "      <td>35</td>\n",
       "      <td>6.758</td>\n",
       "      <td>8.5</td>\n",
       "      <td>0.922598</td>\n",
       "      <td>4</td>\n",
       "      <td>-0.396320</td>\n",
       "      <td>0.985406</td>\n",
       "      <td>1.032922</td>\n",
       "      <td>6.249764</td>\n",
       "    </tr>\n",
       "    <tr>\n",
       "      <th>4</th>\n",
       "      <td>2007-01-05</td>\n",
       "      <td>0</td>\n",
       "      <td>10.2</td>\n",
       "      <td>0</td>\n",
       "      <td>4.7</td>\n",
       "      <td>0</td>\n",
       "      <td>0.8</td>\n",
       "      <td>1005.5</td>\n",
       "      <td>9.4</td>\n",
       "      <td>0</td>\n",
       "      <td>...</td>\n",
       "      <td>0</td>\n",
       "      <td>19</td>\n",
       "      <td>6.760</td>\n",
       "      <td>7.4</td>\n",
       "      <td>0.922598</td>\n",
       "      <td>5</td>\n",
       "      <td>-0.394522</td>\n",
       "      <td>0.988748</td>\n",
       "      <td>1.032878</td>\n",
       "      <td>6.313735</td>\n",
       "    </tr>\n",
       "  </tbody>\n",
       "</table>\n",
       "<p>5 rows × 23 columns</p>\n",
       "</div>"
      ],
      "text/plain": [
       "        date  imax  maxtp  imin  mintp  irain  rain     cbl  wdsp  ihm  \\\n",
       "0 2007-01-01     0    6.1     0    3.6      0   4.8  1005.9  10.7    0   \n",
       "1 2007-01-02     0    9.4     0    4.8      0   0.4  1017.2  11.3    0   \n",
       "2 2007-01-03     0   12.1     0    8.1      0   2.9  1005.7  14.6    0   \n",
       "3 2007-01-04     0    9.7     0    7.3      0   0.0  1004.2  12.8    0   \n",
       "4 2007-01-05     0   10.2     0    4.7      0   0.8  1005.5   9.4    0   \n",
       "\n",
       "     ...     ihg  hg   soil  meantp       lat  dayofyear   sol_dec       sha  \\\n",
       "0    ...       0  33  4.071     4.8  0.922598          1 -0.401008  0.976637   \n",
       "1    ...       0  33  4.304     7.1  0.922598          2 -0.399564  0.979348   \n",
       "2    ...       0  38  7.723    10.1  0.922598          3 -0.398001  0.982272   \n",
       "3    ...       0  35  6.758     8.5  0.922598          4 -0.396320  0.985406   \n",
       "4    ...       0  19  6.760     7.4  0.922598          5 -0.394522  0.988748   \n",
       "\n",
       "        ird    et_rad  \n",
       "0  1.032995  6.083577  \n",
       "1  1.032980  6.134697  \n",
       "2  1.032956  6.190089  \n",
       "3  1.032922  6.249764  \n",
       "4  1.032878  6.313735  \n",
       "\n",
       "[5 rows x 23 columns]"
      ]
     },
     "execution_count": 53,
     "metadata": {},
     "output_type": "execute_result"
    }
   ],
   "source": [
    "sol_dec = df['dayofyear'].apply(pyeto.sol_dec)   # Solar declination\n",
    "df['sol_dec'] = sol_dec #add column\n",
    "\n",
    "sha = df.apply(lambda x: pyeto.sunset_hour_angle(x['lat'],x['sol_dec']), axis=1)\n",
    "df['sha'] = sha #add column\n",
    "\n",
    "ird = df['dayofyear'].apply(pyeto.inv_rel_dist_earth_sun)\n",
    "df['ird'] = ird\n",
    "\n",
    "et_rad = df.apply(lambda x: pyeto.et_rad(x['lat'],x['sol_dec'],x['sha'],x['ird']), axis =1)   # Extraterrestrial radiation\n",
    "df['et_rad'] = et_rad\n",
    "\n",
    "df.head()"
   ]
  },
  {
   "cell_type": "markdown",
   "metadata": {},
   "source": [
    "Apply the 'hargreaves' function"
   ]
  },
  {
   "cell_type": "code",
   "execution_count": 54,
   "metadata": {
    "collapsed": false,
    "scrolled": false
   },
   "outputs": [
    {
     "data": {
      "text/html": [
       "<div>\n",
       "<table border=\"1\" class=\"dataframe\">\n",
       "  <thead>\n",
       "    <tr style=\"text-align: right;\">\n",
       "      <th></th>\n",
       "      <th>date</th>\n",
       "      <th>imax</th>\n",
       "      <th>maxtp</th>\n",
       "      <th>imin</th>\n",
       "      <th>mintp</th>\n",
       "      <th>irain</th>\n",
       "      <th>rain</th>\n",
       "      <th>cbl</th>\n",
       "      <th>wdsp</th>\n",
       "      <th>ihm</th>\n",
       "      <th>...</th>\n",
       "      <th>hg</th>\n",
       "      <th>soil</th>\n",
       "      <th>meantp</th>\n",
       "      <th>lat</th>\n",
       "      <th>dayofyear</th>\n",
       "      <th>sol_dec</th>\n",
       "      <th>sha</th>\n",
       "      <th>ird</th>\n",
       "      <th>et_rad</th>\n",
       "      <th>hargreaves</th>\n",
       "    </tr>\n",
       "  </thead>\n",
       "  <tbody>\n",
       "    <tr>\n",
       "      <th>0</th>\n",
       "      <td>2007-01-01</td>\n",
       "      <td>0</td>\n",
       "      <td>6.1</td>\n",
       "      <td>0</td>\n",
       "      <td>3.6</td>\n",
       "      <td>0</td>\n",
       "      <td>4.8</td>\n",
       "      <td>1005.9</td>\n",
       "      <td>10.7</td>\n",
       "      <td>0</td>\n",
       "      <td>...</td>\n",
       "      <td>33</td>\n",
       "      <td>4.071</td>\n",
       "      <td>4.8</td>\n",
       "      <td>0.922598</td>\n",
       "      <td>1</td>\n",
       "      <td>-0.401008</td>\n",
       "      <td>0.976637</td>\n",
       "      <td>1.032995</td>\n",
       "      <td>6.083577</td>\n",
       "      <td>0.203998</td>\n",
       "    </tr>\n",
       "    <tr>\n",
       "      <th>1</th>\n",
       "      <td>2007-01-02</td>\n",
       "      <td>0</td>\n",
       "      <td>9.4</td>\n",
       "      <td>0</td>\n",
       "      <td>4.8</td>\n",
       "      <td>0</td>\n",
       "      <td>0.4</td>\n",
       "      <td>1017.2</td>\n",
       "      <td>11.3</td>\n",
       "      <td>0</td>\n",
       "      <td>...</td>\n",
       "      <td>33</td>\n",
       "      <td>4.304</td>\n",
       "      <td>7.1</td>\n",
       "      <td>0.922598</td>\n",
       "      <td>2</td>\n",
       "      <td>-0.399564</td>\n",
       "      <td>0.979348</td>\n",
       "      <td>1.032980</td>\n",
       "      <td>6.134697</td>\n",
       "      <td>0.307439</td>\n",
       "    </tr>\n",
       "    <tr>\n",
       "      <th>2</th>\n",
       "      <td>2007-01-03</td>\n",
       "      <td>0</td>\n",
       "      <td>12.1</td>\n",
       "      <td>0</td>\n",
       "      <td>8.1</td>\n",
       "      <td>0</td>\n",
       "      <td>2.9</td>\n",
       "      <td>1005.7</td>\n",
       "      <td>14.6</td>\n",
       "      <td>0</td>\n",
       "      <td>...</td>\n",
       "      <td>38</td>\n",
       "      <td>7.723</td>\n",
       "      <td>10.1</td>\n",
       "      <td>0.922598</td>\n",
       "      <td>3</td>\n",
       "      <td>-0.398001</td>\n",
       "      <td>0.982272</td>\n",
       "      <td>1.032956</td>\n",
       "      <td>6.190089</td>\n",
       "      <td>0.324130</td>\n",
       "    </tr>\n",
       "    <tr>\n",
       "      <th>3</th>\n",
       "      <td>2007-01-04</td>\n",
       "      <td>0</td>\n",
       "      <td>9.7</td>\n",
       "      <td>0</td>\n",
       "      <td>7.3</td>\n",
       "      <td>0</td>\n",
       "      <td>0.0</td>\n",
       "      <td>1004.2</td>\n",
       "      <td>12.8</td>\n",
       "      <td>0</td>\n",
       "      <td>...</td>\n",
       "      <td>35</td>\n",
       "      <td>6.758</td>\n",
       "      <td>8.5</td>\n",
       "      <td>0.922598</td>\n",
       "      <td>4</td>\n",
       "      <td>-0.396320</td>\n",
       "      <td>0.985406</td>\n",
       "      <td>1.032922</td>\n",
       "      <td>6.249764</td>\n",
       "      <td>0.238953</td>\n",
       "    </tr>\n",
       "    <tr>\n",
       "      <th>4</th>\n",
       "      <td>2007-01-05</td>\n",
       "      <td>0</td>\n",
       "      <td>10.2</td>\n",
       "      <td>0</td>\n",
       "      <td>4.7</td>\n",
       "      <td>0</td>\n",
       "      <td>0.8</td>\n",
       "      <td>1005.5</td>\n",
       "      <td>9.4</td>\n",
       "      <td>0</td>\n",
       "      <td>...</td>\n",
       "      <td>19</td>\n",
       "      <td>6.760</td>\n",
       "      <td>7.4</td>\n",
       "      <td>0.922598</td>\n",
       "      <td>5</td>\n",
       "      <td>-0.394522</td>\n",
       "      <td>0.988748</td>\n",
       "      <td>1.032878</td>\n",
       "      <td>6.313735</td>\n",
       "      <td>0.350152</td>\n",
       "    </tr>\n",
       "  </tbody>\n",
       "</table>\n",
       "<p>5 rows × 24 columns</p>\n",
       "</div>"
      ],
      "text/plain": [
       "        date  imax  maxtp  imin  mintp  irain  rain     cbl  wdsp  ihm  \\\n",
       "0 2007-01-01     0    6.1     0    3.6      0   4.8  1005.9  10.7    0   \n",
       "1 2007-01-02     0    9.4     0    4.8      0   0.4  1017.2  11.3    0   \n",
       "2 2007-01-03     0   12.1     0    8.1      0   2.9  1005.7  14.6    0   \n",
       "3 2007-01-04     0    9.7     0    7.3      0   0.0  1004.2  12.8    0   \n",
       "4 2007-01-05     0   10.2     0    4.7      0   0.8  1005.5   9.4    0   \n",
       "\n",
       "      ...      hg   soil  meantp       lat  dayofyear   sol_dec       sha  \\\n",
       "0     ...      33  4.071     4.8  0.922598          1 -0.401008  0.976637   \n",
       "1     ...      33  4.304     7.1  0.922598          2 -0.399564  0.979348   \n",
       "2     ...      38  7.723    10.1  0.922598          3 -0.398001  0.982272   \n",
       "3     ...      35  6.758     8.5  0.922598          4 -0.396320  0.985406   \n",
       "4     ...      19  6.760     7.4  0.922598          5 -0.394522  0.988748   \n",
       "\n",
       "        ird    et_rad  hargreaves  \n",
       "0  1.032995  6.083577    0.203998  \n",
       "1  1.032980  6.134697    0.307439  \n",
       "2  1.032956  6.190089    0.324130  \n",
       "3  1.032922  6.249764    0.238953  \n",
       "4  1.032878  6.313735    0.350152  \n",
       "\n",
       "[5 rows x 24 columns]"
      ]
     },
     "execution_count": 54,
     "metadata": {},
     "output_type": "execute_result"
    }
   ],
   "source": [
    "PEcalc = df.apply(lambda x: hargreaves(x['mintp'], x['maxtp'], x['meantp'], x['et_rad']),axis=1)\n",
    "df['hargreaves'] = PEcalc #create a column\n",
    "df.head()"
   ]
  },
  {
   "cell_type": "markdown",
   "metadata": {},
   "source": [
    "Compare hargreaves calculation to Met Eireann PE (Penman-Monteith method)"
   ]
  },
  {
   "cell_type": "code",
   "execution_count": 55,
   "metadata": {
    "collapsed": false
   },
   "outputs": [
    {
     "data": {
      "text/html": [
       "<div>\n",
       "<table border=\"1\" class=\"dataframe\">\n",
       "  <thead>\n",
       "    <tr style=\"text-align: right;\">\n",
       "      <th></th>\n",
       "      <th>date</th>\n",
       "      <th>PE (mm)</th>\n",
       "    </tr>\n",
       "  </thead>\n",
       "  <tbody>\n",
       "    <tr>\n",
       "      <th>0</th>\n",
       "      <td>2008-01-01</td>\n",
       "      <td>0.546</td>\n",
       "    </tr>\n",
       "    <tr>\n",
       "      <th>1</th>\n",
       "      <td>2008-01-02</td>\n",
       "      <td>0.825</td>\n",
       "    </tr>\n",
       "    <tr>\n",
       "      <th>2</th>\n",
       "      <td>2008-01-03</td>\n",
       "      <td>0.416</td>\n",
       "    </tr>\n",
       "    <tr>\n",
       "      <th>3</th>\n",
       "      <td>2008-01-04</td>\n",
       "      <td>0.390</td>\n",
       "    </tr>\n",
       "    <tr>\n",
       "      <th>4</th>\n",
       "      <td>2008-01-05</td>\n",
       "      <td>0.253</td>\n",
       "    </tr>\n",
       "  </tbody>\n",
       "</table>\n",
       "</div>"
      ],
      "text/plain": [
       "        date  PE (mm)\n",
       "0 2008-01-01    0.546\n",
       "1 2008-01-02    0.825\n",
       "2 2008-01-03    0.416\n",
       "3 2008-01-04    0.390\n",
       "4 2008-01-05    0.253"
      ]
     },
     "execution_count": 55,
     "metadata": {},
     "output_type": "execute_result"
    }
   ],
   "source": [
    "metPE = pd.read_excel(\"E:\\PhD\\Data\\MetData\\PE\\OakPark 08-16.xlsx\")\n",
    "metPE['date'] = pd.to_datetime(metPE['date'], format= '%d-%b-%Y') #datetime object\n",
    "metPE = metPE[metPE['date'].dt.year.isin(years)] #match the years of the observed data (met eireann PE starts at 2008)\n",
    "metPE = metPE[['date','PE (mm)']]\n",
    "metPE.head()"
   ]
  },
  {
   "cell_type": "markdown",
   "metadata": {},
   "source": [
    "Drop 2007 from hargreaves calculation"
   ]
  },
  {
   "cell_type": "code",
   "execution_count": 56,
   "metadata": {
    "collapsed": false
   },
   "outputs": [
    {
     "data": {
      "text/html": [
       "<div>\n",
       "<table border=\"1\" class=\"dataframe\">\n",
       "  <thead>\n",
       "    <tr style=\"text-align: right;\">\n",
       "      <th></th>\n",
       "      <th>date</th>\n",
       "      <th>hargreaves</th>\n",
       "    </tr>\n",
       "  </thead>\n",
       "  <tbody>\n",
       "    <tr>\n",
       "      <th>365</th>\n",
       "      <td>2008-01-01</td>\n",
       "      <td>0.313550</td>\n",
       "    </tr>\n",
       "    <tr>\n",
       "      <th>366</th>\n",
       "      <td>2008-01-02</td>\n",
       "      <td>0.276951</td>\n",
       "    </tr>\n",
       "    <tr>\n",
       "      <th>367</th>\n",
       "      <td>2008-01-03</td>\n",
       "      <td>0.265258</td>\n",
       "    </tr>\n",
       "    <tr>\n",
       "      <th>368</th>\n",
       "      <td>2008-01-04</td>\n",
       "      <td>0.391506</td>\n",
       "    </tr>\n",
       "    <tr>\n",
       "      <th>369</th>\n",
       "      <td>2008-01-05</td>\n",
       "      <td>0.284838</td>\n",
       "    </tr>\n",
       "  </tbody>\n",
       "</table>\n",
       "</div>"
      ],
      "text/plain": [
       "          date  hargreaves\n",
       "365 2008-01-01    0.313550\n",
       "366 2008-01-02    0.276951\n",
       "367 2008-01-03    0.265258\n",
       "368 2008-01-04    0.391506\n",
       "369 2008-01-05    0.284838"
      ]
     },
     "execution_count": 56,
     "metadata": {},
     "output_type": "execute_result"
    }
   ],
   "source": [
    "df2 = df.ix[365:]\n",
    "df2 = df2[['date','hargreaves']]\n",
    "df2.head()"
   ]
  },
  {
   "cell_type": "markdown",
   "metadata": {},
   "source": [
    "Merge the two dataframes"
   ]
  },
  {
   "cell_type": "code",
   "execution_count": 57,
   "metadata": {
    "collapsed": false
   },
   "outputs": [
    {
     "data": {
      "text/plain": [
       "<matplotlib.axes._subplots.AxesSubplot at 0x9ef8518>"
      ]
     },
     "execution_count": 57,
     "metadata": {},
     "output_type": "execute_result"
    },
    {
     "data": {
      "image/png": "[encoded data removed]",
      "text/plain": [
       "<matplotlib.figure.Figure at 0x9ef8cf8>"
      ]
     },
     "metadata": {},
     "output_type": "display_data"
    }
   ],
   "source": [
    "compare = df2.merge(metPE, on = 'date')\n",
    "compare.head()\n",
    "compare.plot(x='date')"
   ]
  },
  {
   "cell_type": "markdown",
   "metadata": {},
   "source": [
    "Filter out unwanted columns"
   ]
  },
  {
   "cell_type": "code",
   "execution_count": 58,
   "metadata": {
    "collapsed": false
   },
   "outputs": [
    {
     "data": {
      "text/html": [
       "<div>\n",
       "<table border=\"1\" class=\"dataframe\">\n",
       "  <thead>\n",
       "    <tr style=\"text-align: right;\">\n",
       "      <th></th>\n",
       "      <th>date</th>\n",
       "      <th>meantp</th>\n",
       "      <th>hargreaves</th>\n",
       "      <th>rain</th>\n",
       "    </tr>\n",
       "  </thead>\n",
       "  <tbody>\n",
       "    <tr>\n",
       "      <th>0</th>\n",
       "      <td>2007-01-01</td>\n",
       "      <td>4.8</td>\n",
       "      <td>0.203998</td>\n",
       "      <td>4.8</td>\n",
       "    </tr>\n",
       "    <tr>\n",
       "      <th>1</th>\n",
       "      <td>2007-01-02</td>\n",
       "      <td>7.1</td>\n",
       "      <td>0.307439</td>\n",
       "      <td>0.4</td>\n",
       "    </tr>\n",
       "    <tr>\n",
       "      <th>2</th>\n",
       "      <td>2007-01-03</td>\n",
       "      <td>10.1</td>\n",
       "      <td>0.324130</td>\n",
       "      <td>2.9</td>\n",
       "    </tr>\n",
       "    <tr>\n",
       "      <th>3</th>\n",
       "      <td>2007-01-04</td>\n",
       "      <td>8.5</td>\n",
       "      <td>0.238953</td>\n",
       "      <td>0.0</td>\n",
       "    </tr>\n",
       "    <tr>\n",
       "      <th>4</th>\n",
       "      <td>2007-01-05</td>\n",
       "      <td>7.4</td>\n",
       "      <td>0.350152</td>\n",
       "      <td>0.8</td>\n",
       "    </tr>\n",
       "  </tbody>\n",
       "</table>\n",
       "</div>"
      ],
      "text/plain": [
       "        date  meantp  hargreaves  rain\n",
       "0 2007-01-01     4.8    0.203998   4.8\n",
       "1 2007-01-02     7.1    0.307439   0.4\n",
       "2 2007-01-03    10.1    0.324130   2.9\n",
       "3 2007-01-04     8.5    0.238953   0.0\n",
       "4 2007-01-05     7.4    0.350152   0.8"
      ]
     },
     "execution_count": 58,
     "metadata": {},
     "output_type": "execute_result"
    }
   ],
   "source": [
    "df = df[['date','meantp','hargreaves','rain']]\n",
    "df.head()"
   ]
  },
  {
   "cell_type": "markdown",
   "metadata": {},
   "source": [
    "Convert 'date' column to datetime object so Pandas can use it "
   ]
  },
  {
   "cell_type": "markdown",
   "metadata": {},
   "source": [
    "Split data into seasons based on months\n",
    "\n",
    "Spring = 1, Summer = 2, Autumn = 3, Winter = 4"
   ]
  },
  {
   "cell_type": "code",
   "execution_count": 59,
   "metadata": {
    "collapsed": true
   },
   "outputs": [],
   "source": [
    "#create a season function to split data into seasons\n",
    "def get_season(row):\n",
    "    if row['date'].month >= 3 and row['date'].month <= 5:\n",
    "        return '1'\n",
    "    elif row['date'].month >= 6 and row['date'].month <= 8:\n",
    "        return '2'\n",
    "    elif row['date'].month >= 9 and row['date'].month <= 11:\n",
    "        return '3'\n",
    "    else:\n",
    "        return '4'"
   ]
  },
  {
   "cell_type": "markdown",
   "metadata": {},
   "source": [
    "Apply the season function to the data"
   ]
  },
  {
   "cell_type": "code",
   "execution_count": 60,
   "metadata": {
    "collapsed": false
   },
   "outputs": [],
   "source": [
    "df['Season'] = df.apply(get_season, axis=1)"
   ]
  },
  {
   "cell_type": "markdown",
   "metadata": {},
   "source": [
    "Create 'Year' column from the 'date' column"
   ]
  },
  {
   "cell_type": "code",
   "execution_count": 61,
   "metadata": {
    "collapsed": false
   },
   "outputs": [],
   "source": [
    "df['Year'] = df['date'].dt.year"
   ]
  },
  {
   "cell_type": "markdown",
   "metadata": {},
   "source": [
    "Make December of previous year part of winter for current year"
   ]
  },
  {
   "cell_type": "code",
   "execution_count": 62,
   "metadata": {
    "collapsed": false
   },
   "outputs": [],
   "source": [
    "#Redefine the year to attach December of previous year to winter of following year \n",
    "#Everywhere the month is '12', the year column gets increased by 1. \n",
    "df.loc[df['date'].dt.month == 12, 'Year'] += 1"
   ]
  },
  {
   "cell_type": "markdown",
   "metadata": {},
   "source": [
    "Create a new dataframe indexed by Year and Season"
   ]
  },
  {
   "cell_type": "code",
   "execution_count": 63,
   "metadata": {
    "collapsed": false
   },
   "outputs": [
    {
     "data": {
      "text/html": [
       "<div>\n",
       "<table border=\"1\" class=\"dataframe\">\n",
       "  <thead>\n",
       "    <tr style=\"text-align: right;\">\n",
       "      <th></th>\n",
       "      <th></th>\n",
       "      <th>date</th>\n",
       "      <th>meantp</th>\n",
       "      <th>hargreaves</th>\n",
       "      <th>rain</th>\n",
       "    </tr>\n",
       "    <tr>\n",
       "      <th>Year</th>\n",
       "      <th>Season</th>\n",
       "      <th></th>\n",
       "      <th></th>\n",
       "      <th></th>\n",
       "      <th></th>\n",
       "    </tr>\n",
       "  </thead>\n",
       "  <tbody>\n",
       "    <tr>\n",
       "      <th rowspan=\"5\" valign=\"top\">2007</th>\n",
       "      <th>4</th>\n",
       "      <td>2007-01-01</td>\n",
       "      <td>4.8</td>\n",
       "      <td>0.203998</td>\n",
       "      <td>4.8</td>\n",
       "    </tr>\n",
       "    <tr>\n",
       "      <th>4</th>\n",
       "      <td>2007-01-02</td>\n",
       "      <td>7.1</td>\n",
       "      <td>0.307439</td>\n",
       "      <td>0.4</td>\n",
       "    </tr>\n",
       "    <tr>\n",
       "      <th>4</th>\n",
       "      <td>2007-01-03</td>\n",
       "      <td>10.1</td>\n",
       "      <td>0.324130</td>\n",
       "      <td>2.9</td>\n",
       "    </tr>\n",
       "    <tr>\n",
       "      <th>4</th>\n",
       "      <td>2007-01-04</td>\n",
       "      <td>8.5</td>\n",
       "      <td>0.238953</td>\n",
       "      <td>0.0</td>\n",
       "    </tr>\n",
       "    <tr>\n",
       "      <th>4</th>\n",
       "      <td>2007-01-05</td>\n",
       "      <td>7.4</td>\n",
       "      <td>0.350152</td>\n",
       "      <td>0.8</td>\n",
       "    </tr>\n",
       "  </tbody>\n",
       "</table>\n",
       "</div>"
      ],
      "text/plain": [
       "                  date  meantp  hargreaves  rain\n",
       "Year Season                                     \n",
       "2007 4      2007-01-01     4.8    0.203998   4.8\n",
       "     4      2007-01-02     7.1    0.307439   0.4\n",
       "     4      2007-01-03    10.1    0.324130   2.9\n",
       "     4      2007-01-04     8.5    0.238953   0.0\n",
       "     4      2007-01-05     7.4    0.350152   0.8"
      ]
     },
     "execution_count": 63,
     "metadata": {},
     "output_type": "execute_result"
    }
   ],
   "source": [
    "#how to multiindex from here: http://stackoverflow.com/questions/33435971/selecting-time-series-data-in-a-specific-sequence-using-pandas/33437422#33437422\n",
    "df2 = df.set_index(['Year', 'Season'], inplace=False)\n",
    "df2.head()"
   ]
  },
  {
   "cell_type": "markdown",
   "metadata": {},
   "source": [
    "# Temperature Extremes"
   ]
  },
  {
   "cell_type": "markdown",
   "metadata": {},
   "source": [
    "Calculate mean values for each season"
   ]
  },
  {
   "cell_type": "code",
   "execution_count": 64,
   "metadata": {
    "collapsed": false,
    "scrolled": true
   },
   "outputs": [
    {
     "name": "stdout",
     "output_type": "stream",
     "text": [
      "Season\n",
      "1     8.905978\n",
      "2    14.931565\n",
      "3    10.456868\n",
      "4     4.897829\n",
      "Name: meantp, dtype: float64\n"
     ]
    }
   ],
   "source": [
    "seasmean = df['meantp'].groupby(df['Season']).mean()\n",
    "sprmean = seasmean['1']\n",
    "summean = seasmean['2']\n",
    "autmean = seasmean['3']\n",
    "winmean = seasmean['4']\n",
    "\n",
    "print seasmean"
   ]
  },
  {
   "cell_type": "markdown",
   "metadata": {},
   "source": [
    "Calculating differences between season and season means"
   ]
  },
  {
   "cell_type": "code",
   "execution_count": 65,
   "metadata": {
    "collapsed": false,
    "scrolled": true
   },
   "outputs": [
    {
     "data": {
      "text/plain": [
       "Year  Season\n",
       "2007  1         0.823370\n",
       "      2        -0.201130\n",
       "      3         0.518956\n",
       "      4         1.378442\n",
       "2008  1        -0.044022\n",
       "      2        -0.164173\n",
       "      3        -0.922802\n",
       "      4         1.196676\n",
       "2009  1         0.113587\n",
       "      2         0.040175\n",
       "      3         0.176099\n",
       "      4        -0.551163\n",
       "2010  1        -0.502717\n",
       "      2         0.355392\n",
       "      3        -0.790934\n",
       "      4        -2.493385\n",
       "2011  1         0.669022\n",
       "      2        -1.243653\n",
       "      3         1.362912\n",
       "      4        -1.857829\n",
       "2012  1        -0.114674\n",
       "      2        -0.326130\n",
       "      3        -1.273352\n",
       "      4         1.532940\n",
       "2013  1        -1.678804\n",
       "      2         1.151044\n",
       "      3         0.406868\n",
       "      4         0.212171\n",
       "2014  1         0.734239\n",
       "      2         0.374957\n",
       "      3         0.522253\n",
       "      4         1.026615\n",
       "Name: meantp, dtype: float64"
      ]
     },
     "execution_count": 65,
     "metadata": {},
     "output_type": "execute_result"
    }
   ],
   "source": [
    "seasdif = df2['meantp'].groupby(level=['Year','Season']).mean() - seasmean\n",
    "seasdif"
   ]
  },
  {
   "cell_type": "markdown",
   "metadata": {},
   "source": [
    "Visualise these seasonal differences"
   ]
  },
  {
   "cell_type": "code",
   "execution_count": 66,
   "metadata": {
    "collapsed": false,
    "scrolled": true
   },
   "outputs": [
    {
     "data": {
      "text/plain": [
       "<matplotlib.lines.Line2D at 0xa58eeb8>"
      ]
     },
     "execution_count": 66,
     "metadata": {},
     "output_type": "execute_result"
    },
    {
     "data": {
      "image/png": "[encoded data removed]",
      "text/plain": [
       "<matplotlib.figure.Figure at 0xa4bff28>"
      ]
     },
     "metadata": {},
     "output_type": "display_data"
    }
   ],
   "source": [
    "#visualise the seasonal differences (calculate greater than 2 standard deviations?)\n",
    "seasdif.plot()\n",
    "plt.axhline(0,color='red')\n",
    "plt.axhline(seasdif.std() * 1, color ='red')\n",
    "plt.axhline(-(seasdif.std()) * 1, color ='red')"
   ]
  },
  {
   "cell_type": "markdown",
   "metadata": {},
   "source": [
    "# Rainfall Extremes"
   ]
  },
  {
   "cell_type": "markdown",
   "metadata": {},
   "source": [
    "Calculate sum values for each season"
   ]
  },
  {
   "cell_type": "code",
   "execution_count": 67,
   "metadata": {
    "collapsed": false
   },
   "outputs": [
    {
     "name": "stdout",
     "output_type": "stream",
     "text": [
      "Season\n",
      "1    151.1500\n",
      "2    255.8750\n",
      "3    244.8375\n",
      "4    223.1625\n",
      "Name: rain, dtype: float64\n"
     ]
    }
   ],
   "source": [
    "rainsum = df['rain'].groupby(df['Season']).sum() / no_of_years #seasonal sums divided by number of years to get baseline rainfall\n",
    "print rainsum"
   ]
  },
  {
   "cell_type": "code",
   "execution_count": 68,
   "metadata": {
    "collapsed": false,
    "scrolled": true
   },
   "outputs": [
    {
     "data": {
      "text/plain": [
       "Year  Season\n",
       "2007  1         -24.3500\n",
       "      2          78.5250\n",
       "      3        -155.8375\n",
       "      4         -75.7625\n",
       "2008  1           1.6500\n",
       "      2         110.0250\n",
       "      3         -28.9375\n",
       "      4          15.0375\n",
       "2009  1          52.8500\n",
       "      2          62.8250\n",
       "      3         140.3625\n",
       "      4         -32.7625\n",
       "2010  1          29.9500\n",
       "      2         -99.0750\n",
       "      3          20.4625\n",
       "      4         -29.9625\n",
       "2011  1         -64.9500\n",
       "      2        -111.2750\n",
       "      3          32.1625\n",
       "      4           1.5375\n",
       "2012  1         -26.6500\n",
       "      2         110.6250\n",
       "      3         -62.6375\n",
       "      4         -72.3625\n",
       "2013  1         -13.5500\n",
       "      2        -104.3750\n",
       "      3         -22.7375\n",
       "      4         -43.0625\n",
       "2014  1          45.0500\n",
       "      2         -47.2750\n",
       "      3          77.1625\n",
       "      4         237.3375\n",
       "Name: rain, dtype: float64"
      ]
     },
     "execution_count": 68,
     "metadata": {},
     "output_type": "execute_result"
    }
   ],
   "source": [
    "raindif = df2['rain'].groupby(level=['Year','Season']).sum() - rainsum #work out the anomalies\n",
    "raindif"
   ]
  },
  {
   "cell_type": "code",
   "execution_count": 69,
   "metadata": {
    "collapsed": false
   },
   "outputs": [
    {
     "data": {
      "text/plain": [
       "<matplotlib.lines.Line2D at 0xa9e55c0>"
      ]
     },
     "execution_count": 69,
     "metadata": {},
     "output_type": "execute_result"
    },
    {
     "data": {
      "image/png": "[encoded data removed]",
      "text/plain": [
       "<matplotlib.figure.Figure at 0xa57c208>"
      ]
     },
     "metadata": {},
     "output_type": "display_data"
    }
   ],
   "source": [
    "#visualise the seasonal differences (calculate greater than 2 standard deviations?)\n",
    "raindif.plot()\n",
    "plt.axhline(0,color='red')\n",
    "plt.axhline(raindif.std() * 1, color ='red')\n",
    "plt.axhline(-(raindif.std()) * 1, color ='red')\n",
    "\n",
    "#NOTE: December 2015 is only one month, and should not be included (remove final 31 rows from the data?)"
   ]
  },
  {
   "cell_type": "markdown",
   "metadata": {},
   "source": [
    "# Extracting extreme seasons"
   ]
  },
  {
   "cell_type": "markdown",
   "metadata": {},
   "source": [
    "Create a copy of the dataframe and two blank lists for hot and cold extremes"
   ]
  },
  {
   "cell_type": "code",
   "execution_count": 70,
   "metadata": {
    "collapsed": true
   },
   "outputs": [],
   "source": [
    "seasdif2 = pd.DataFrame(seasdif)\n",
    "warm = []\n",
    "cold = []"
   ]
  },
  {
   "cell_type": "markdown",
   "metadata": {},
   "source": [
    "Create a function which identifies warm and cold extremes based on the data"
   ]
  },
  {
   "cell_type": "code",
   "execution_count": 71,
   "metadata": {
    "collapsed": true
   },
   "outputs": [],
   "source": [
    "def extremetemp(x):\n",
    "    for season in x:\n",
    "        if season > x.std() * 1:\n",
    "            warm.append(1)\n",
    "        else:\n",
    "            warm.append(0)\n",
    "\n",
    "    for season in x:\n",
    "        if season < (-(x.std()*1)):\n",
    "            cold.append(1)\n",
    "        else:\n",
    "            cold.append(0)"
   ]
  },
  {
   "cell_type": "markdown",
   "metadata": {},
   "source": [
    "Apply the function to the dataset"
   ]
  },
  {
   "cell_type": "code",
   "execution_count": 72,
   "metadata": {
    "collapsed": false,
    "scrolled": false
   },
   "outputs": [],
   "source": [
    "extremetemp(seasdif)"
   ]
  },
  {
   "cell_type": "markdown",
   "metadata": {},
   "source": [
    "Create new columns in duplicate dataset to identify which season has an extreme value"
   ]
  },
  {
   "cell_type": "code",
   "execution_count": 73,
   "metadata": {
    "collapsed": false,
    "scrolled": true
   },
   "outputs": [
    {
     "data": {
      "text/html": [
       "<div>\n",
       "<table border=\"1\" class=\"dataframe\">\n",
       "  <thead>\n",
       "    <tr style=\"text-align: right;\">\n",
       "      <th></th>\n",
       "      <th></th>\n",
       "      <th>meantp</th>\n",
       "      <th>cold</th>\n",
       "      <th>warm</th>\n",
       "    </tr>\n",
       "    <tr>\n",
       "      <th>Year</th>\n",
       "      <th>Season</th>\n",
       "      <th></th>\n",
       "      <th></th>\n",
       "      <th></th>\n",
       "    </tr>\n",
       "  </thead>\n",
       "  <tbody>\n",
       "    <tr>\n",
       "      <th rowspan=\"4\" valign=\"top\">2007</th>\n",
       "      <th>1</th>\n",
       "      <td>0.823370</td>\n",
       "      <td>0</td>\n",
       "      <td>0</td>\n",
       "    </tr>\n",
       "    <tr>\n",
       "      <th>2</th>\n",
       "      <td>-0.201130</td>\n",
       "      <td>0</td>\n",
       "      <td>0</td>\n",
       "    </tr>\n",
       "    <tr>\n",
       "      <th>3</th>\n",
       "      <td>0.518956</td>\n",
       "      <td>0</td>\n",
       "      <td>0</td>\n",
       "    </tr>\n",
       "    <tr>\n",
       "      <th>4</th>\n",
       "      <td>1.378442</td>\n",
       "      <td>0</td>\n",
       "      <td>1</td>\n",
       "    </tr>\n",
       "    <tr>\n",
       "      <th rowspan=\"4\" valign=\"top\">2008</th>\n",
       "      <th>1</th>\n",
       "      <td>-0.044022</td>\n",
       "      <td>0</td>\n",
       "      <td>0</td>\n",
       "    </tr>\n",
       "    <tr>\n",
       "      <th>2</th>\n",
       "      <td>-0.164173</td>\n",
       "      <td>0</td>\n",
       "      <td>0</td>\n",
       "    </tr>\n",
       "    <tr>\n",
       "      <th>3</th>\n",
       "      <td>-0.922802</td>\n",
       "      <td>0</td>\n",
       "      <td>0</td>\n",
       "    </tr>\n",
       "    <tr>\n",
       "      <th>4</th>\n",
       "      <td>1.196676</td>\n",
       "      <td>0</td>\n",
       "      <td>1</td>\n",
       "    </tr>\n",
       "    <tr>\n",
       "      <th rowspan=\"4\" valign=\"top\">2009</th>\n",
       "      <th>1</th>\n",
       "      <td>0.113587</td>\n",
       "      <td>0</td>\n",
       "      <td>0</td>\n",
       "    </tr>\n",
       "    <tr>\n",
       "      <th>2</th>\n",
       "      <td>0.040175</td>\n",
       "      <td>0</td>\n",
       "      <td>0</td>\n",
       "    </tr>\n",
       "    <tr>\n",
       "      <th>3</th>\n",
       "      <td>0.176099</td>\n",
       "      <td>0</td>\n",
       "      <td>0</td>\n",
       "    </tr>\n",
       "    <tr>\n",
       "      <th>4</th>\n",
       "      <td>-0.551163</td>\n",
       "      <td>0</td>\n",
       "      <td>0</td>\n",
       "    </tr>\n",
       "    <tr>\n",
       "      <th rowspan=\"4\" valign=\"top\">2010</th>\n",
       "      <th>1</th>\n",
       "      <td>-0.502717</td>\n",
       "      <td>0</td>\n",
       "      <td>0</td>\n",
       "    </tr>\n",
       "    <tr>\n",
       "      <th>2</th>\n",
       "      <td>0.355392</td>\n",
       "      <td>0</td>\n",
       "      <td>0</td>\n",
       "    </tr>\n",
       "    <tr>\n",
       "      <th>3</th>\n",
       "      <td>-0.790934</td>\n",
       "      <td>0</td>\n",
       "      <td>0</td>\n",
       "    </tr>\n",
       "    <tr>\n",
       "      <th>4</th>\n",
       "      <td>-2.493385</td>\n",
       "      <td>1</td>\n",
       "      <td>0</td>\n",
       "    </tr>\n",
       "    <tr>\n",
       "      <th rowspan=\"4\" valign=\"top\">2011</th>\n",
       "      <th>1</th>\n",
       "      <td>0.669022</td>\n",
       "      <td>0</td>\n",
       "      <td>0</td>\n",
       "    </tr>\n",
       "    <tr>\n",
       "      <th>2</th>\n",
       "      <td>-1.243653</td>\n",
       "      <td>1</td>\n",
       "      <td>0</td>\n",
       "    </tr>\n",
       "    <tr>\n",
       "      <th>3</th>\n",
       "      <td>1.362912</td>\n",
       "      <td>0</td>\n",
       "      <td>1</td>\n",
       "    </tr>\n",
       "    <tr>\n",
       "      <th>4</th>\n",
       "      <td>-1.857829</td>\n",
       "      <td>1</td>\n",
       "      <td>0</td>\n",
       "    </tr>\n",
       "    <tr>\n",
       "      <th rowspan=\"4\" valign=\"top\">2012</th>\n",
       "      <th>1</th>\n",
       "      <td>-0.114674</td>\n",
       "      <td>0</td>\n",
       "      <td>0</td>\n",
       "    </tr>\n",
       "    <tr>\n",
       "      <th>2</th>\n",
       "      <td>-0.326130</td>\n",
       "      <td>0</td>\n",
       "      <td>0</td>\n",
       "    </tr>\n",
       "    <tr>\n",
       "      <th>3</th>\n",
       "      <td>-1.273352</td>\n",
       "      <td>1</td>\n",
       "      <td>0</td>\n",
       "    </tr>\n",
       "    <tr>\n",
       "      <th>4</th>\n",
       "      <td>1.532940</td>\n",
       "      <td>0</td>\n",
       "      <td>1</td>\n",
       "    </tr>\n",
       "    <tr>\n",
       "      <th rowspan=\"4\" valign=\"top\">2013</th>\n",
       "      <th>1</th>\n",
       "      <td>-1.678804</td>\n",
       "      <td>1</td>\n",
       "      <td>0</td>\n",
       "    </tr>\n",
       "    <tr>\n",
       "      <th>2</th>\n",
       "      <td>1.151044</td>\n",
       "      <td>0</td>\n",
       "      <td>1</td>\n",
       "    </tr>\n",
       "    <tr>\n",
       "      <th>3</th>\n",
       "      <td>0.406868</td>\n",
       "      <td>0</td>\n",
       "      <td>0</td>\n",
       "    </tr>\n",
       "    <tr>\n",
       "      <th>4</th>\n",
       "      <td>0.212171</td>\n",
       "      <td>0</td>\n",
       "      <td>0</td>\n",
       "    </tr>\n",
       "    <tr>\n",
       "      <th rowspan=\"4\" valign=\"top\">2014</th>\n",
       "      <th>1</th>\n",
       "      <td>0.734239</td>\n",
       "      <td>0</td>\n",
       "      <td>0</td>\n",
       "    </tr>\n",
       "    <tr>\n",
       "      <th>2</th>\n",
       "      <td>0.374957</td>\n",
       "      <td>0</td>\n",
       "      <td>0</td>\n",
       "    </tr>\n",
       "    <tr>\n",
       "      <th>3</th>\n",
       "      <td>0.522253</td>\n",
       "      <td>0</td>\n",
       "      <td>0</td>\n",
       "    </tr>\n",
       "    <tr>\n",
       "      <th>4</th>\n",
       "      <td>1.026615</td>\n",
       "      <td>0</td>\n",
       "      <td>1</td>\n",
       "    </tr>\n",
       "  </tbody>\n",
       "</table>\n",
       "</div>"
      ],
      "text/plain": [
       "               meantp  cold  warm\n",
       "Year Season                      \n",
       "2007 1       0.823370     0     0\n",
       "     2      -0.201130     0     0\n",
       "     3       0.518956     0     0\n",
       "     4       1.378442     0     1\n",
       "2008 1      -0.044022     0     0\n",
       "     2      -0.164173     0     0\n",
       "     3      -0.922802     0     0\n",
       "     4       1.196676     0     1\n",
       "2009 1       0.113587     0     0\n",
       "     2       0.040175     0     0\n",
       "     3       0.176099     0     0\n",
       "     4      -0.551163     0     0\n",
       "2010 1      -0.502717     0     0\n",
       "     2       0.355392     0     0\n",
       "     3      -0.790934     0     0\n",
       "     4      -2.493385     1     0\n",
       "2011 1       0.669022     0     0\n",
       "     2      -1.243653     1     0\n",
       "     3       1.362912     0     1\n",
       "     4      -1.857829     1     0\n",
       "2012 1      -0.114674     0     0\n",
       "     2      -0.326130     0     0\n",
       "     3      -1.273352     1     0\n",
       "     4       1.532940     0     1\n",
       "2013 1      -1.678804     1     0\n",
       "     2       1.151044     0     1\n",
       "     3       0.406868     0     0\n",
       "     4       0.212171     0     0\n",
       "2014 1       0.734239     0     0\n",
       "     2       0.374957     0     0\n",
       "     3       0.522253     0     0\n",
       "     4       1.026615     0     1"
      ]
     },
     "execution_count": 73,
     "metadata": {},
     "output_type": "execute_result"
    }
   ],
   "source": [
    "seasdif2['cold']=cold\n",
    "seasdif2['warm']=warm\n",
    "seasdif2"
   ]
  },
  {
   "cell_type": "markdown",
   "metadata": {},
   "source": [
    "### Do the same for Rainfall"
   ]
  },
  {
   "cell_type": "code",
   "execution_count": 74,
   "metadata": {
    "collapsed": true
   },
   "outputs": [],
   "source": [
    "raindif2 = pd.DataFrame(raindif)\n",
    "wet = []\n",
    "dry = []"
   ]
  },
  {
   "cell_type": "markdown",
   "metadata": {},
   "source": [
    "Create a function which identifies wet and dry extremes based on the data"
   ]
  },
  {
   "cell_type": "code",
   "execution_count": 75,
   "metadata": {
    "collapsed": true
   },
   "outputs": [],
   "source": [
    "def extremerain(x):\n",
    "    for season in x:\n",
    "        if season > x.std() * 1:\n",
    "            wet.append(1)\n",
    "        else:\n",
    "            wet.append(0)\n",
    "\n",
    "    for season in x:\n",
    "        if season < (-(x.std()*1)):\n",
    "            dry.append(1)\n",
    "        else:\n",
    "            dry.append(0)"
   ]
  },
  {
   "cell_type": "markdown",
   "metadata": {},
   "source": [
    "Apply the function to the dataset"
   ]
  },
  {
   "cell_type": "code",
   "execution_count": 76,
   "metadata": {
    "collapsed": true
   },
   "outputs": [],
   "source": [
    "extremerain(raindif)"
   ]
  },
  {
   "cell_type": "code",
   "execution_count": 77,
   "metadata": {
    "collapsed": false,
    "scrolled": true
   },
   "outputs": [
    {
     "data": {
      "text/html": [
       "<div>\n",
       "<table border=\"1\" class=\"dataframe\">\n",
       "  <thead>\n",
       "    <tr style=\"text-align: right;\">\n",
       "      <th></th>\n",
       "      <th></th>\n",
       "      <th>meantp</th>\n",
       "      <th>cold</th>\n",
       "      <th>warm</th>\n",
       "      <th>wet</th>\n",
       "      <th>dry</th>\n",
       "    </tr>\n",
       "    <tr>\n",
       "      <th>Year</th>\n",
       "      <th>Season</th>\n",
       "      <th></th>\n",
       "      <th></th>\n",
       "      <th></th>\n",
       "      <th></th>\n",
       "      <th></th>\n",
       "    </tr>\n",
       "  </thead>\n",
       "  <tbody>\n",
       "    <tr>\n",
       "      <th rowspan=\"4\" valign=\"top\">2007</th>\n",
       "      <th>1</th>\n",
       "      <td>0.823370</td>\n",
       "      <td>0</td>\n",
       "      <td>0</td>\n",
       "      <td>0</td>\n",
       "      <td>0</td>\n",
       "    </tr>\n",
       "    <tr>\n",
       "      <th>2</th>\n",
       "      <td>-0.201130</td>\n",
       "      <td>0</td>\n",
       "      <td>0</td>\n",
       "      <td>0</td>\n",
       "      <td>0</td>\n",
       "    </tr>\n",
       "    <tr>\n",
       "      <th>3</th>\n",
       "      <td>0.518956</td>\n",
       "      <td>0</td>\n",
       "      <td>0</td>\n",
       "      <td>0</td>\n",
       "      <td>1</td>\n",
       "    </tr>\n",
       "    <tr>\n",
       "      <th>4</th>\n",
       "      <td>1.378442</td>\n",
       "      <td>0</td>\n",
       "      <td>1</td>\n",
       "      <td>0</td>\n",
       "      <td>0</td>\n",
       "    </tr>\n",
       "    <tr>\n",
       "      <th rowspan=\"4\" valign=\"top\">2008</th>\n",
       "      <th>1</th>\n",
       "      <td>-0.044022</td>\n",
       "      <td>0</td>\n",
       "      <td>0</td>\n",
       "      <td>0</td>\n",
       "      <td>0</td>\n",
       "    </tr>\n",
       "    <tr>\n",
       "      <th>2</th>\n",
       "      <td>-0.164173</td>\n",
       "      <td>0</td>\n",
       "      <td>0</td>\n",
       "      <td>1</td>\n",
       "      <td>0</td>\n",
       "    </tr>\n",
       "    <tr>\n",
       "      <th>3</th>\n",
       "      <td>-0.922802</td>\n",
       "      <td>0</td>\n",
       "      <td>0</td>\n",
       "      <td>0</td>\n",
       "      <td>0</td>\n",
       "    </tr>\n",
       "    <tr>\n",
       "      <th>4</th>\n",
       "      <td>1.196676</td>\n",
       "      <td>0</td>\n",
       "      <td>1</td>\n",
       "      <td>0</td>\n",
       "      <td>0</td>\n",
       "    </tr>\n",
       "    <tr>\n",
       "      <th rowspan=\"4\" valign=\"top\">2009</th>\n",
       "      <th>1</th>\n",
       "      <td>0.113587</td>\n",
       "      <td>0</td>\n",
       "      <td>0</td>\n",
       "      <td>0</td>\n",
       "      <td>0</td>\n",
       "    </tr>\n",
       "    <tr>\n",
       "      <th>2</th>\n",
       "      <td>0.040175</td>\n",
       "      <td>0</td>\n",
       "      <td>0</td>\n",
       "      <td>0</td>\n",
       "      <td>0</td>\n",
       "    </tr>\n",
       "    <tr>\n",
       "      <th>3</th>\n",
       "      <td>0.176099</td>\n",
       "      <td>0</td>\n",
       "      <td>0</td>\n",
       "      <td>1</td>\n",
       "      <td>0</td>\n",
       "    </tr>\n",
       "    <tr>\n",
       "      <th>4</th>\n",
       "      <td>-0.551163</td>\n",
       "      <td>0</td>\n",
       "      <td>0</td>\n",
       "      <td>0</td>\n",
       "      <td>0</td>\n",
       "    </tr>\n",
       "    <tr>\n",
       "      <th rowspan=\"4\" valign=\"top\">2010</th>\n",
       "      <th>1</th>\n",
       "      <td>-0.502717</td>\n",
       "      <td>0</td>\n",
       "      <td>0</td>\n",
       "      <td>0</td>\n",
       "      <td>0</td>\n",
       "    </tr>\n",
       "    <tr>\n",
       "      <th>2</th>\n",
       "      <td>0.355392</td>\n",
       "      <td>0</td>\n",
       "      <td>0</td>\n",
       "      <td>0</td>\n",
       "      <td>1</td>\n",
       "    </tr>\n",
       "    <tr>\n",
       "      <th>3</th>\n",
       "      <td>-0.790934</td>\n",
       "      <td>0</td>\n",
       "      <td>0</td>\n",
       "      <td>0</td>\n",
       "      <td>0</td>\n",
       "    </tr>\n",
       "    <tr>\n",
       "      <th>4</th>\n",
       "      <td>-2.493385</td>\n",
       "      <td>1</td>\n",
       "      <td>0</td>\n",
       "      <td>0</td>\n",
       "      <td>0</td>\n",
       "    </tr>\n",
       "    <tr>\n",
       "      <th rowspan=\"4\" valign=\"top\">2011</th>\n",
       "      <th>1</th>\n",
       "      <td>0.669022</td>\n",
       "      <td>0</td>\n",
       "      <td>0</td>\n",
       "      <td>0</td>\n",
       "      <td>0</td>\n",
       "    </tr>\n",
       "    <tr>\n",
       "      <th>2</th>\n",
       "      <td>-1.243653</td>\n",
       "      <td>1</td>\n",
       "      <td>0</td>\n",
       "      <td>0</td>\n",
       "      <td>1</td>\n",
       "    </tr>\n",
       "    <tr>\n",
       "      <th>3</th>\n",
       "      <td>1.362912</td>\n",
       "      <td>0</td>\n",
       "      <td>1</td>\n",
       "      <td>0</td>\n",
       "      <td>0</td>\n",
       "    </tr>\n",
       "    <tr>\n",
       "      <th>4</th>\n",
       "      <td>-1.857829</td>\n",
       "      <td>1</td>\n",
       "      <td>0</td>\n",
       "      <td>0</td>\n",
       "      <td>0</td>\n",
       "    </tr>\n",
       "    <tr>\n",
       "      <th rowspan=\"4\" valign=\"top\">2012</th>\n",
       "      <th>1</th>\n",
       "      <td>-0.114674</td>\n",
       "      <td>0</td>\n",
       "      <td>0</td>\n",
       "      <td>0</td>\n",
       "      <td>0</td>\n",
       "    </tr>\n",
       "    <tr>\n",
       "      <th>2</th>\n",
       "      <td>-0.326130</td>\n",
       "      <td>0</td>\n",
       "      <td>0</td>\n",
       "      <td>1</td>\n",
       "      <td>0</td>\n",
       "    </tr>\n",
       "    <tr>\n",
       "      <th>3</th>\n",
       "      <td>-1.273352</td>\n",
       "      <td>1</td>\n",
       "      <td>0</td>\n",
       "      <td>0</td>\n",
       "      <td>0</td>\n",
       "    </tr>\n",
       "    <tr>\n",
       "      <th>4</th>\n",
       "      <td>1.532940</td>\n",
       "      <td>0</td>\n",
       "      <td>1</td>\n",
       "      <td>0</td>\n",
       "      <td>0</td>\n",
       "    </tr>\n",
       "    <tr>\n",
       "      <th rowspan=\"4\" valign=\"top\">2013</th>\n",
       "      <th>1</th>\n",
       "      <td>-1.678804</td>\n",
       "      <td>1</td>\n",
       "      <td>0</td>\n",
       "      <td>0</td>\n",
       "      <td>0</td>\n",
       "    </tr>\n",
       "    <tr>\n",
       "      <th>2</th>\n",
       "      <td>1.151044</td>\n",
       "      <td>0</td>\n",
       "      <td>1</td>\n",
       "      <td>0</td>\n",
       "      <td>1</td>\n",
       "    </tr>\n",
       "    <tr>\n",
       "      <th>3</th>\n",
       "      <td>0.406868</td>\n",
       "      <td>0</td>\n",
       "      <td>0</td>\n",
       "      <td>0</td>\n",
       "      <td>0</td>\n",
       "    </tr>\n",
       "    <tr>\n",
       "      <th>4</th>\n",
       "      <td>0.212171</td>\n",
       "      <td>0</td>\n",
       "      <td>0</td>\n",
       "      <td>0</td>\n",
       "      <td>0</td>\n",
       "    </tr>\n",
       "    <tr>\n",
       "      <th rowspan=\"4\" valign=\"top\">2014</th>\n",
       "      <th>1</th>\n",
       "      <td>0.734239</td>\n",
       "      <td>0</td>\n",
       "      <td>0</td>\n",
       "      <td>0</td>\n",
       "      <td>0</td>\n",
       "    </tr>\n",
       "    <tr>\n",
       "      <th>2</th>\n",
       "      <td>0.374957</td>\n",
       "      <td>0</td>\n",
       "      <td>0</td>\n",
       "      <td>0</td>\n",
       "      <td>0</td>\n",
       "    </tr>\n",
       "    <tr>\n",
       "      <th>3</th>\n",
       "      <td>0.522253</td>\n",
       "      <td>0</td>\n",
       "      <td>0</td>\n",
       "      <td>0</td>\n",
       "      <td>0</td>\n",
       "    </tr>\n",
       "    <tr>\n",
       "      <th>4</th>\n",
       "      <td>1.026615</td>\n",
       "      <td>0</td>\n",
       "      <td>1</td>\n",
       "      <td>1</td>\n",
       "      <td>0</td>\n",
       "    </tr>\n",
       "  </tbody>\n",
       "</table>\n",
       "</div>"
      ],
      "text/plain": [
       "               meantp  cold  warm  wet  dry\n",
       "Year Season                                \n",
       "2007 1       0.823370     0     0    0    0\n",
       "     2      -0.201130     0     0    0    0\n",
       "     3       0.518956     0     0    0    1\n",
       "     4       1.378442     0     1    0    0\n",
       "2008 1      -0.044022     0     0    0    0\n",
       "     2      -0.164173     0     0    1    0\n",
       "     3      -0.922802     0     0    0    0\n",
       "     4       1.196676     0     1    0    0\n",
       "2009 1       0.113587     0     0    0    0\n",
       "     2       0.040175     0     0    0    0\n",
       "     3       0.176099     0     0    1    0\n",
       "     4      -0.551163     0     0    0    0\n",
       "2010 1      -0.502717     0     0    0    0\n",
       "     2       0.355392     0     0    0    1\n",
       "     3      -0.790934     0     0    0    0\n",
       "     4      -2.493385     1     0    0    0\n",
       "2011 1       0.669022     0     0    0    0\n",
       "     2      -1.243653     1     0    0    1\n",
       "     3       1.362912     0     1    0    0\n",
       "     4      -1.857829     1     0    0    0\n",
       "2012 1      -0.114674     0     0    0    0\n",
       "     2      -0.326130     0     0    1    0\n",
       "     3      -1.273352     1     0    0    0\n",
       "     4       1.532940     0     1    0    0\n",
       "2013 1      -1.678804     1     0    0    0\n",
       "     2       1.151044     0     1    0    1\n",
       "     3       0.406868     0     0    0    0\n",
       "     4       0.212171     0     0    0    0\n",
       "2014 1       0.734239     0     0    0    0\n",
       "     2       0.374957     0     0    0    0\n",
       "     3       0.522253     0     0    0    0\n",
       "     4       1.026615     0     1    1    0"
      ]
     },
     "execution_count": 77,
     "metadata": {},
     "output_type": "execute_result"
    }
   ],
   "source": [
    "seasdif2['wet']=wet\n",
    "seasdif2['dry']=dry\n",
    "seasdif2"
   ]
  },
  {
   "cell_type": "markdown",
   "metadata": {
    "collapsed": true
   },
   "source": [
    "### Select out combinations of data (warm/wet, warm/dry, cold/wet, cold/dry)"
   ]
  },
  {
   "cell_type": "code",
   "execution_count": 80,
   "metadata": {
    "collapsed": false
   },
   "outputs": [
    {
     "data": {
      "text/html": [
       "<div>\n",
       "<table border=\"1\" class=\"dataframe\">\n",
       "  <thead>\n",
       "    <tr style=\"text-align: right;\">\n",
       "      <th></th>\n",
       "      <th></th>\n",
       "      <th>meantp</th>\n",
       "      <th>cold</th>\n",
       "      <th>warm</th>\n",
       "      <th>wet</th>\n",
       "      <th>dry</th>\n",
       "    </tr>\n",
       "    <tr>\n",
       "      <th>Year</th>\n",
       "      <th>Season</th>\n",
       "      <th></th>\n",
       "      <th></th>\n",
       "      <th></th>\n",
       "      <th></th>\n",
       "      <th></th>\n",
       "    </tr>\n",
       "  </thead>\n",
       "  <tbody>\n",
       "    <tr>\n",
       "      <th rowspan=\"2\" valign=\"top\">2007</th>\n",
       "      <th>3</th>\n",
       "      <td>0.518956</td>\n",
       "      <td>0</td>\n",
       "      <td>0</td>\n",
       "      <td>0</td>\n",
       "      <td>1</td>\n",
       "    </tr>\n",
       "    <tr>\n",
       "      <th>4</th>\n",
       "      <td>1.378442</td>\n",
       "      <td>0</td>\n",
       "      <td>1</td>\n",
       "      <td>0</td>\n",
       "      <td>0</td>\n",
       "    </tr>\n",
       "    <tr>\n",
       "      <th rowspan=\"2\" valign=\"top\">2008</th>\n",
       "      <th>2</th>\n",
       "      <td>-0.164173</td>\n",
       "      <td>0</td>\n",
       "      <td>0</td>\n",
       "      <td>1</td>\n",
       "      <td>0</td>\n",
       "    </tr>\n",
       "    <tr>\n",
       "      <th>4</th>\n",
       "      <td>1.196676</td>\n",
       "      <td>0</td>\n",
       "      <td>1</td>\n",
       "      <td>0</td>\n",
       "      <td>0</td>\n",
       "    </tr>\n",
       "    <tr>\n",
       "      <th>2009</th>\n",
       "      <th>3</th>\n",
       "      <td>0.176099</td>\n",
       "      <td>0</td>\n",
       "      <td>0</td>\n",
       "      <td>1</td>\n",
       "      <td>0</td>\n",
       "    </tr>\n",
       "    <tr>\n",
       "      <th rowspan=\"2\" valign=\"top\">2010</th>\n",
       "      <th>2</th>\n",
       "      <td>0.355392</td>\n",
       "      <td>0</td>\n",
       "      <td>0</td>\n",
       "      <td>0</td>\n",
       "      <td>1</td>\n",
       "    </tr>\n",
       "    <tr>\n",
       "      <th>4</th>\n",
       "      <td>-2.493385</td>\n",
       "      <td>1</td>\n",
       "      <td>0</td>\n",
       "      <td>0</td>\n",
       "      <td>0</td>\n",
       "    </tr>\n",
       "    <tr>\n",
       "      <th rowspan=\"3\" valign=\"top\">2011</th>\n",
       "      <th>2</th>\n",
       "      <td>-1.243653</td>\n",
       "      <td>1</td>\n",
       "      <td>0</td>\n",
       "      <td>0</td>\n",
       "      <td>1</td>\n",
       "    </tr>\n",
       "    <tr>\n",
       "      <th>3</th>\n",
       "      <td>1.362912</td>\n",
       "      <td>0</td>\n",
       "      <td>1</td>\n",
       "      <td>0</td>\n",
       "      <td>0</td>\n",
       "    </tr>\n",
       "    <tr>\n",
       "      <th>4</th>\n",
       "      <td>-1.857829</td>\n",
       "      <td>1</td>\n",
       "      <td>0</td>\n",
       "      <td>0</td>\n",
       "      <td>0</td>\n",
       "    </tr>\n",
       "    <tr>\n",
       "      <th rowspan=\"3\" valign=\"top\">2012</th>\n",
       "      <th>2</th>\n",
       "      <td>-0.326130</td>\n",
       "      <td>0</td>\n",
       "      <td>0</td>\n",
       "      <td>1</td>\n",
       "      <td>0</td>\n",
       "    </tr>\n",
       "    <tr>\n",
       "      <th>3</th>\n",
       "      <td>-1.273352</td>\n",
       "      <td>1</td>\n",
       "      <td>0</td>\n",
       "      <td>0</td>\n",
       "      <td>0</td>\n",
       "    </tr>\n",
       "    <tr>\n",
       "      <th>4</th>\n",
       "      <td>1.532940</td>\n",
       "      <td>0</td>\n",
       "      <td>1</td>\n",
       "      <td>0</td>\n",
       "      <td>0</td>\n",
       "    </tr>\n",
       "    <tr>\n",
       "      <th rowspan=\"2\" valign=\"top\">2013</th>\n",
       "      <th>1</th>\n",
       "      <td>-1.678804</td>\n",
       "      <td>1</td>\n",
       "      <td>0</td>\n",
       "      <td>0</td>\n",
       "      <td>0</td>\n",
       "    </tr>\n",
       "    <tr>\n",
       "      <th>2</th>\n",
       "      <td>1.151044</td>\n",
       "      <td>0</td>\n",
       "      <td>1</td>\n",
       "      <td>0</td>\n",
       "      <td>1</td>\n",
       "    </tr>\n",
       "    <tr>\n",
       "      <th>2014</th>\n",
       "      <th>4</th>\n",
       "      <td>1.026615</td>\n",
       "      <td>0</td>\n",
       "      <td>1</td>\n",
       "      <td>1</td>\n",
       "      <td>0</td>\n",
       "    </tr>\n",
       "  </tbody>\n",
       "</table>\n",
       "</div>"
      ],
      "text/plain": [
       "               meantp  cold  warm  wet  dry\n",
       "Year Season                                \n",
       "2007 3       0.518956     0     0    0    1\n",
       "     4       1.378442     0     1    0    0\n",
       "2008 2      -0.164173     0     0    1    0\n",
       "     4       1.196676     0     1    0    0\n",
       "2009 3       0.176099     0     0    1    0\n",
       "2010 2       0.355392     0     0    0    1\n",
       "     4      -2.493385     1     0    0    0\n",
       "2011 2      -1.243653     1     0    0    1\n",
       "     3       1.362912     0     1    0    0\n",
       "     4      -1.857829     1     0    0    0\n",
       "2012 2      -0.326130     0     0    1    0\n",
       "     3      -1.273352     1     0    0    0\n",
       "     4       1.532940     0     1    0    0\n",
       "2013 1      -1.678804     1     0    0    0\n",
       "     2       1.151044     0     1    0    1\n",
       "2014 4       1.026615     0     1    1    0"
      ]
     },
     "execution_count": 80,
     "metadata": {},
     "output_type": "execute_result"
    }
   ],
   "source": [
    "#identify columns with cold extremes (could do the same for warm but there are none)\n",
    "seasdif2.loc[(seasdif2.cold==1) | (seasdif2.dry==1) | (seasdif2.warm==1) | (seasdif2.wet ==1)]"
   ]
  },
  {
   "cell_type": "code",
   "execution_count": 79,
   "metadata": {
    "collapsed": false
   },
   "outputs": [],
   "source": [
    "#blank dataframe\n",
    "future = pd.DataFrame()"
   ]
  },
  {
   "cell_type": "markdown",
   "metadata": {},
   "source": [
    "Loop through for x amount of years"
   ]
  },
  {
   "cell_type": "code",
   "execution_count": null,
   "metadata": {
    "collapsed": false,
    "scrolled": false
   },
   "outputs": [],
   "source": [
    "for i in range(outputyears):\n",
    "    for season in ['1', '2', '3', '4']:\n",
    "        future = future.append(df2.loc[np.random.choice(range(startyear, endyear))]\n",
    "                                  .loc[season])"
   ]
  },
  {
   "cell_type": "code",
   "execution_count": null,
   "metadata": {
    "collapsed": false
   },
   "outputs": [],
   "source": [
    "future.head()"
   ]
  },
  {
   "cell_type": "markdown",
   "metadata": {},
   "source": [
    "### Change the output directory and save the file"
   ]
  },
  {
   "cell_type": "code",
   "execution_count": null,
   "metadata": {
    "collapsed": false
   },
   "outputs": [],
   "source": [
    "#check spacing replace with underscore\n",
    "os.chdir('E:\\PhD\\Data\\Block Resampling')\n",
    "#save the file\n",
    "empty.to_csv('empty.csv', sep = ',')"
   ]
  },
  {
   "cell_type": "code",
   "execution_count": null,
   "metadata": {
    "collapsed": true
   },
   "outputs": [],
   "source": []
  },
  {
   "cell_type": "code",
   "execution_count": null,
   "metadata": {
    "collapsed": true
   },
   "outputs": [],
   "source": []
  },
  {
   "cell_type": "code",
   "execution_count": null,
   "metadata": {
    "collapsed": true
   },
   "outputs": [],
   "source": []
  },
  {
   "cell_type": "code",
   "execution_count": null,
   "metadata": {
    "collapsed": true
   },
   "outputs": [],
   "source": []
  },
  {
   "cell_type": "code",
   "execution_count": null,
   "metadata": {
    "collapsed": true
   },
   "outputs": [],
   "source": []
  },
  {
   "cell_type": "code",
   "execution_count": null,
   "metadata": {
    "collapsed": true
   },
   "outputs": [],
   "source": []
  },
  {
   "cell_type": "code",
   "execution_count": null,
   "metadata": {
    "collapsed": true
   },
   "outputs": [],
   "source": []
  },
  {
   "cell_type": "code",
   "execution_count": null,
   "metadata": {
    "collapsed": true
   },
   "outputs": [],
   "source": []
  },
  {
   "cell_type": "code",
   "execution_count": null,
   "metadata": {
    "collapsed": true
   },
   "outputs": [],
   "source": []
  },
  {
   "cell_type": "markdown",
   "metadata": {},
   "source": [
    "# The following calculates z-scores, and doesn't make much sense..."
   ]
  },
  {
   "cell_type": "code",
   "execution_count": null,
   "metadata": {
    "collapsed": true
   },
   "outputs": [],
   "source": [
    "#zscore calculation \n",
    "df.dtypes #check column datatypes\n",
    "df.head() #view header\n",
    "cols = list(df.columns) #convert to list\n",
    "cols.remove('date')\n",
    "cols.remove('Season')\n",
    "cols.remove('Year') #remove unnecessary columns\n",
    "df[cols]\n",
    "\n",
    "for col in cols:\n",
    "    col_zscore = col + '_zscore'\n",
    "    df[col_zscore] = (df[col] - df[col].mean())/df[col].std(ddof=0)\n",
    "    \n",
    "#minus the season mean and divide by the stddev of the seasmean"
   ]
  },
  {
   "cell_type": "code",
   "execution_count": null,
   "metadata": {
    "collapsed": false
   },
   "outputs": [],
   "source": [
    "#plotting z scores\n",
    "df.plot(x='date',y='Tmean_zscore')    \n",
    "plt.axhline(0, color='red')  \n",
    "plt.axhline(0, color='red')\n",
    "plt.axhline(1.96, color='red')\n",
    "plt.axhline(-1.96, color='red')\n",
    "plt.title('Mean Temperature Z-Score')\n",
    "plt.xlabel('Year')\n",
    "plt.ylabel('Z-Score')\n",
    "plt.savefig('temp z score.png', dpi = 500)"
   ]
  },
  {
   "cell_type": "markdown",
   "metadata": {},
   "source": [
    "### Calculate 'extremes' based on z-scores greater than 2 or less than -2"
   ]
  },
  {
   "cell_type": "code",
   "execution_count": null,
   "metadata": {
    "collapsed": false
   },
   "outputs": [],
   "source": [
    "extremes = df[(df['Tmean_zscore'] >=2) | (df['Tmean_zscore'] <= -2)]\n",
    "extremes"
   ]
  },
  {
   "cell_type": "code",
   "execution_count": null,
   "metadata": {
    "collapsed": true
   },
   "outputs": [],
   "source": [
    "#figure out how to select 'normal' seasons and follow with 'extreme' seasons. "
   ]
  },
  {
   "cell_type": "code",
   "execution_count": null,
   "metadata": {
    "collapsed": true
   },
   "outputs": [],
   "source": []
  }
 ],
 "metadata": {
  "kernelspec": {
   "display_name": "Python 2",
   "language": "python",
   "name": "python2"
  },
  "language_info": {
   "codemirror_mode": {
    "name": "ipython",
    "version": 2
   },
   "file_extension": ".py",
   "mimetype": "text/x-python",
   "name": "python",
   "nbconvert_exporter": "python",
   "pygments_lexer": "ipython2",
   "version": "2.7.11"
  }
 },
 "nbformat": 4,
 "nbformat_minor": 0
}
